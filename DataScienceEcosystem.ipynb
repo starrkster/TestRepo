{
 "cells": [
  {
   "cell_type": "markdown",
   "id": "d2bdaa81-bb79-4138-b1b6-14650b38436f",
   "metadata": {},
   "source": [
    "# Execute it as a markdown cell\n",
    "# Data Science Tools and Ecosystems"
   ]
  },
  {
   "cell_type": "markdown",
   "id": "7f07bafd-ae8f-45e1-a577-a0ea6a3200a9",
   "metadata": {},
   "source": [
    "# Execute it as a markdown cell\n",
    "**In this notebook, Data Science Tools and Ecosystem are summerized.**"
   ]
  },
  {
   "cell_type": "markdown",
   "id": "7e4afa61-42f1-49c7-bb41-7c83b17792f2",
   "metadata": {},
   "source": [
    "# Execute it as a markdown cell\n",
    "Some of the popular languages that are used by data scientists are:\n",
    "1. Python.\n",
    "2. R.\n",
    "3. Java.\n",
    "4. Scala.\n",
    "5. Julia.\n",
    "6. SQL."
   ]
  },
  {
   "cell_type": "markdown",
   "id": "c8b89b2b-1cb3-42eb-bf74-ff6377522176",
   "metadata": {},
   "source": [
    "# Execute it as a markdown cell\n",
    "Some of the commonly used libraries used by Data Scientists Include:\n",
    "1. Pandas.\n",
    "2. Numpy.\n",
    "3. Scipy.\n",
    "4. Matplotlib."
   ]
  },
  {
   "cell_type": "markdown",
   "id": "e6ab08ed-b800-4f53-834e-0c0d5308cdab",
   "metadata": {},
   "source": [
    "# Execute it as a markdown cell\n",
    "|Data Science Tools|Jupyter Note Book|Rstudio|Apache Zeppelin|\n",
    "|------------------|-----------------|---------|-------------|"
   ]
  },
  {
   "cell_type": "markdown",
   "id": "ad22e63e-803f-4d8e-a26a-ccb2f44ee29f",
   "metadata": {},
   "source": [
    "# Execute this as a markdown cell\n",
    "### H3: Below are a few examples of evaluating arthemetic expressions in python"
   ]
  },
  {
   "cell_type": "code",
   "execution_count": 1,
   "id": "43a50e1b-4b71-4327-b64f-cec7ace93f52",
   "metadata": {},
   "outputs": [
    {
     "data": {
      "text/plain": [
       "17"
      ]
     },
     "execution_count": 1,
     "metadata": {},
     "output_type": "execute_result"
    }
   ],
   "source": [
    "# This is a simple arthematic expression to multiply and then add integers\n",
    "(3*4)+5"
   ]
  },
  {
   "cell_type": "code",
   "execution_count": 2,
   "id": "d2127bb5-c5a4-4572-b014-50475aabaa44",
   "metadata": {},
   "outputs": [
    {
     "data": {
      "text/plain": [
       "3.3333333333333335"
      ]
     },
     "execution_count": 2,
     "metadata": {},
     "output_type": "execute_result"
    }
   ],
   "source": [
    "# This will convert 200 minutes to hours by diving by 60\n",
    "200/60"
   ]
  },
  {
   "cell_type": "markdown",
   "id": "316f2c91-8882-497a-af3b-94834db82332",
   "metadata": {},
   "source": [
    "# Execute it as a markdown cell\n",
    "**Objective.**\n",
    "+ Python.\n",
    "+ R.\n",
    "+ Scala.\n",
    "+ Julia.\n",
    "+ Java.\n",
    "+ SQL"
   ]
  },
  {
   "cell_type": "markdown",
   "id": "b53dac48-aa3f-4e0b-bdf2-a0f91b6a05c4",
   "metadata": {},
   "source": [
    "# Execute it as a markdown cell\n",
    "## Author\n",
    "Satishkumar R"
   ]
  },
  {
   "cell_type": "code",
   "execution_count": null,
   "id": "82b81c01-95e3-48ab-ba13-f8d67f8816d1",
   "metadata": {},
   "outputs": [],
   "source": []
  }
 ],
 "metadata": {
  "kernelspec": {
   "display_name": "Python 3 (ipykernel)",
   "language": "python",
   "name": "python3"
  },
  "language_info": {
   "codemirror_mode": {
    "name": "ipython",
    "version": 3
   },
   "file_extension": ".py",
   "mimetype": "text/x-python",
   "name": "python",
   "nbconvert_exporter": "python",
   "pygments_lexer": "ipython3",
   "version": "3.12.8"
  }
 },
 "nbformat": 4,
 "nbformat_minor": 5
}
